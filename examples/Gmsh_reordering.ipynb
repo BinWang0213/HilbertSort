{
 "cells": [
  {
   "cell_type": "code",
   "execution_count": 1,
   "metadata": {},
   "outputs": [],
   "source": [
    "import numpy as np\n",
    "import collections\n",
    "import meshio"
   ]
  },
  {
   "cell_type": "code",
   "execution_count": 2,
   "metadata": {},
   "outputs": [],
   "source": [
    "#meshio internal cell storage unit\n",
    "CellBlock = collections.namedtuple(\"CellBlock\", [\"type\", \"data\"])\n",
    "\n",
    "#Compute average every n-th row\n",
    "def groupedAvg(myArray, N=2):\n",
    "    result = np.cumsum(myArray, 0)[N-1::N]/float(N)\n",
    "    result[1:] = result[1:] - result[:-1]\n",
    "    return result"
   ]
  },
  {
   "cell_type": "code",
   "execution_count": 9,
   "metadata": {},
   "outputs": [
    {
     "name": "stdout",
     "output_type": "stream",
     "text": [
      "<meshio mesh object>\n",
      "  Number of points: 1358\n",
      "  Number of cells:\n",
      "    triangle: 1780\n",
      "    tetra: 5319\n",
      "  Cell data: gmsh:physical, gmsh:geometrical \n",
      "  Mesh dimension= 3 \n",
      "  NumVerts of a tetra element= 4\n"
     ]
    }
   ],
   "source": [
    "eleType='tetra' #only support tetra mesh yet\n",
    "mesh_file=r\"test.msh\"\n",
    "\n",
    "#---------Read mesh and compute element centers----------\n",
    "mesh = meshio.read(mesh_file, file_format=\"gmsh\")\n",
    "Dim=3 if abs(mesh.points[0][2])>1e-10 else 2\n",
    "numEleVerts=mesh.cells_dict[eleType].shape[1]\n",
    "print(mesh,'\\n  Mesh dimension=',Dim,'\\n  NumVerts of a %s element=' %(eleType),numEleVerts)\n",
    "nodes=mesh.points\n",
    "eles=mesh.cells_dict[eleType] \n",
    "\n",
    "#Compute element centroids [NumEle*4,3], we have element coords every 4 row\n",
    "eles_center=groupedAvg(nodes[eles].reshape(-1,3),numEleVerts) "
   ]
  },
  {
   "cell_type": "markdown",
   "metadata": {},
   "source": [
    "- hilbertSort(arg0: int, arg1: numpy.ndarray[float64[m, n], flags.writeable, flags.c_contiguous], arg2: bool) -> Tuple[numpy.ndarray[float64[m, n]], array]\n",
    "    \n",
    "    \n",
    "    Sort 1/2/3D points based on Hilbert curve\n",
    "    \n",
    "    Input Args:\n",
    "    ----------- \n",
    "    1. [Int] Dimension \n",
    "    2. [Numpy.Array Nx3] InputPoints \n",
    "    3. [Bool] writeConnectivityMap, if output original/sorted points connectivity map into VTK\n",
    "    \n",
    "    Author:Bin Wang (binwang.0213@gmail.com)\n",
    "    Date: April, 2020"
   ]
  },
  {
   "cell_type": "code",
   "execution_count": 10,
   "metadata": {},
   "outputs": [
    {
     "name": "stdout",
     "output_type": "stream",
     "text": [
      "[Info]\tSorting 1358 points.......\n",
      "\tBbox= -1.6  -1.6 -3.75  1.6  1.6 1.25\n",
      "\tSortTime=0 ms\n",
      "\tDone!\n",
      "[Info]\tSorting 5319 points.......\n",
      "\tBbox=-1.47145 -1.47077 -3.68276 1.47045 1.47167 1.19003\n",
      "\tSortTime=0 ms\n",
      "\tDone!\n"
     ]
    }
   ],
   "source": [
    "#-----------Sort points and elements based on Hilbert Curve----------\n",
    "import pyHilbertSort as sorter\n",
    "nodes_sorted,nodeSortedIdx=sorter.hilbertSort(Dim,nodes)\n",
    "center_sorted,eleSortedIdx=sorter.hilbertSort(Dim,eles_center)\n",
    "\n",
    "nodes_sorted=nodes[nodeSortedIdx,:]\n",
    "eles_sorted=eles[eleSortedIdx,:]"
   ]
  },
  {
   "cell_type": "code",
   "execution_count": 11,
   "metadata": {},
   "outputs": [
    {
     "name": "stdout",
     "output_type": "stream",
     "text": [
      "[Info]\tSorting 1358 points.......\n",
      "\tBbox= -1.6  -1.6 -3.75  1.6  1.6 1.25\n",
      "\tSortTime=0 ms\n",
      "\tDone!\n",
      "[Info]\tSorting 5319 points.......\n",
      "\tBbox=-1.47145 -1.47077 -3.68276 1.47045 1.47167 1.19003\n",
      "\tSortTime=0 ms\n",
      "\tDone!\n"
     ]
    }
   ],
   "source": [
    "nodeSortedIdx=sorter.hilbertSortIdx(Dim,nodes)\n",
    "eleSortedIdx=sorter.hilbertSortIdx(Dim,eles_center)\n",
    "\n",
    "nodes_sorted=nodes[nodeSortedIdx,:]\n",
    "eles_sorted=eles[eleSortedIdx,:]"
   ]
  },
  {
   "cell_type": "code",
   "execution_count": 12,
   "metadata": {},
   "outputs": [
    {
     "name": "stdout",
     "output_type": "stream",
     "text": [
      "[Info]\tWrite point ordering map to OrigPts_node.vtk\n",
      "[Info]\tWrite point ordering map to SorttedPts_node.vtk\n",
      "[Info]\tWrite point ordering map to OrigPts_ele.vtk\n",
      "[Info]\tWrite point ordering map to SorttedPts_ele.vtk\n"
     ]
    }
   ],
   "source": [
    "sorter.writeConnectivityMap2VTK(\"OrigPts_node.vtk\",nodes)\n",
    "sorter.writeConnectivityMap2VTK(\"SorttedPts_node.vtk\",nodes_sorted)\n",
    "sorter.writeConnectivityMap2VTK(\"OrigPts_ele.vtk\",eles_center)\n",
    "sorter.writeConnectivityMap2VTK(\"SorttedPts_ele.vtk\",eles_center[eleSortedIdx,:])"
   ]
  },
  {
   "cell_type": "markdown",
   "metadata": {},
   "source": [
    "### Reordering cell only"
   ]
  },
  {
   "cell_type": "code",
   "execution_count": 13,
   "metadata": {},
   "outputs": [],
   "source": [
    "#--------Update mesh info ----------\n",
    "for i,cell in enumerate(mesh.cells):\n",
    "    if cell.type == eleType:\n",
    "        mesh.cells[i]=CellBlock(eleType, eles_sorted)\n",
    "\n",
    "#--------Write updated mesh to file--------\n",
    "mesh.write(\"test_sortted.msh\",file_format=\"gmsh22\",binary=False)"
   ]
  },
  {
   "cell_type": "markdown",
   "metadata": {},
   "source": [
    "### Further reordering nodes and replace cell node index"
   ]
  },
  {
   "cell_type": "code",
   "execution_count": 14,
   "metadata": {},
   "outputs": [],
   "source": [
    "NumPts=len(mesh.points)\n",
    "mesh.points=nodes_sorted\n",
    "idx_mapping = dict(zip(nodeSortedIdx,np.arange(NumPts)))\n",
    "\n",
    "#Replace old idx by sorted idx\n",
    "for i,cell in enumerate(mesh.cells):\n",
    "    c_type,c_data=cell\n",
    "    ##https://stackoverflow.com/questions/16992713/translate-every-element-in-numpy-array-according-to-key\n",
    "    c_data=np.vectorize(idx_mapping.get)(c_data) \n",
    "    mesh.cells[i]=CellBlock(c_type, c_data)\n",
    "    \n",
    "#--------Write updated mesh to file--------\n",
    "mesh.write(\"test_sortted.msh\",file_format=\"gmsh22\",binary=False)"
   ]
  },
  {
   "cell_type": "code",
   "execution_count": 15,
   "metadata": {},
   "outputs": [],
   "source": [
    "np.savetxt(r\"..\\visual_studio\\Pts.csv\", eles_center, delimiter=\",\")"
   ]
  },
  {
   "cell_type": "code",
   "execution_count": null,
   "metadata": {},
   "outputs": [],
   "source": []
  }
 ],
 "metadata": {
  "kernelspec": {
   "display_name": "Python 3",
   "language": "python",
   "name": "python3"
  },
  "language_info": {
   "codemirror_mode": {
    "name": "ipython",
    "version": 3
   },
   "file_extension": ".py",
   "mimetype": "text/x-python",
   "name": "python",
   "nbconvert_exporter": "python",
   "pygments_lexer": "ipython3",
   "version": "3.7.4"
  }
 },
 "nbformat": 4,
 "nbformat_minor": 2
}
