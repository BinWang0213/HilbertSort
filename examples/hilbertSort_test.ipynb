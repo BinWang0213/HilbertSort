{
 "cells": [
  {
   "cell_type": "code",
   "execution_count": 7,
   "metadata": {},
   "outputs": [],
   "source": [
    "import numpy as np"
   ]
  },
  {
   "cell_type": "code",
   "execution_count": 8,
   "metadata": {},
   "outputs": [],
   "source": [
    "def groupedAvg(myArray, N=2):\n",
    "    result = np.cumsum(myArray, 0)[N-1::N]/float(N)\n",
    "    result[1:] = result[1:] - result[:-1]\n",
    "    return result"
   ]
  },
  {
   "cell_type": "code",
   "execution_count": 9,
   "metadata": {},
   "outputs": [
    {
     "name": "stdout",
     "output_type": "stream",
     "text": [
      "<meshio mesh object>\n",
      "  Number of points: 1358\n",
      "  Number of cells:\n",
      "    triangle: 1780\n",
      "    tetra: 5319\n",
      "  Cell data: gmsh:physical, gmsh:geometrical \n",
      "  Mesh dimension= 3 \n",
      "  NumVerts of a tetra element= 4\n"
     ]
    }
   ],
   "source": [
    "import meshio\n",
    "\n",
    "\n",
    "eleType='tetra' #only support tetra mesh yet\n",
    "\n",
    "#---------Read mesh and compute element centers----------\n",
    "mesh = meshio.read(r\"test.msh\", file_format=\"gmsh\")\n",
    "Dim=3 if abs(mesh.points[0][2])>1e-10 else 2\n",
    "numEleVerts=mesh.cells_dict[eleType].shape[1]\n",
    "print(mesh,'\\n  Mesh dimension=',Dim,'\\n  NumVerts of a %s element=' %(eleType),numEleVerts)\n",
    "nodes=mesh.points\n",
    "eles=mesh.cells_dict[eleType] \n",
    "\n",
    "#Compute element centroids [NumEle*4,3], we have element coords every 4 row\n",
    "eles_center=groupedAvg(nodes[eles].reshape(-1,3),numEleVerts) "
   ]
  },
  {
   "cell_type": "code",
   "execution_count": 10,
   "metadata": {},
   "outputs": [
    {
     "name": "stdout",
     "output_type": "stream",
     "text": [
      "[Info]\tSorting 1358 points.......\n",
      "\tBbox= -1.6  -1.6 -3.75  1.6  1.6 1.25\n",
      "\tSortTime=0 ms\n",
      "\tDone!\n",
      "[Info]\tWrite original point ordering to OrigPts_1358.vtk\n",
      "[Info]\tWrite sortted point ordering to SorttedPts_1358.vtk\n"
     ]
    }
   ],
   "source": [
    "#-----------Sort points and elements based on Hilbert Curve----------\n",
    "import pyHilbertSort as sorter\n",
    "\n",
    "nodes_sorted,nodeSortedIdx=sorter.hilbertSort(Dim,nodes,True)"
   ]
  },
  {
   "cell_type": "code",
   "execution_count": 11,
   "metadata": {},
   "outputs": [
    {
     "name": "stdout",
     "output_type": "stream",
     "text": [
      "[Info]\tSorting 5319 points.......\n",
      "\tBbox=-1.47145 -1.47077 -3.68276 1.47045 1.47167 1.19003\n",
      "\tSortTime=0 ms\n",
      "\tDone!\n",
      "[Info]\tWrite original point ordering to OrigPts_5319.vtk\n",
      "[Info]\tWrite sortted point ordering to SorttedPts_5319.vtk\n"
     ]
    }
   ],
   "source": [
    "center_sorted,eleSortedIdx=sorter.hilbertSort(Dim,eles_center,True)"
   ]
  },
  {
   "cell_type": "code",
   "execution_count": 6,
   "metadata": {},
   "outputs": [
    {
     "name": "stdout",
     "output_type": "stream",
     "text": [
      "Help on built-in function hilbertSort in module pyHilbertSort:\n",
      "\n",
      "hilbertSort(...) method of builtins.PyCapsule instance\n",
      "    hilbertSort(arg0: int, arg1: numpy.ndarray[float64[m, n], flags.writeable, flags.c_contiguous], arg2: bool) -> Tuple[numpy.ndarray[float64[m, n]], array]\n",
      "    \n",
      "    \n",
      "    Sort 1/2/3D points based on Hilbert curve\n",
      "    \n",
      "    Input Args:\n",
      "    ----------- \n",
      "    1. [Int] Dimension \n",
      "    2. [Numpy.Array Nx3] InputPoints \n",
      "    3. [Bool] writeConnectivityMap, if output original/sorted points connectivity map into VTK\n",
      "    \n",
      "    Author:Bin Wang (binwang.0213@gmail.com)\n",
      "    Date: April, 2020\n",
      "\n"
     ]
    }
   ],
   "source": [
    "help(sorter.hilbertSort)"
   ]
  }
 ],
 "metadata": {
  "kernelspec": {
   "display_name": "Python 3",
   "language": "python",
   "name": "python3"
  },
  "language_info": {
   "codemirror_mode": {
    "name": "ipython",
    "version": 3
   },
   "file_extension": ".py",
   "mimetype": "text/x-python",
   "name": "python",
   "nbconvert_exporter": "python",
   "pygments_lexer": "ipython3",
   "version": "3.7.4"
  }
 },
 "nbformat": 4,
 "nbformat_minor": 2
}
